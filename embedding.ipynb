{
 "cells": [
  {
   "cell_type": "code",
   "execution_count": 1,
   "metadata": {},
   "outputs": [
    {
     "name": "stdout",
     "output_type": "stream",
     "text": [
      "2.3.3\n",
      "   a\n",
      "0  1\n",
      "1  2\n",
      "2  3\n"
     ]
    }
   ],
   "source": [
    "import pandas as pd\n",
    "print(pd.__version__)\n",
    "df = pd.DataFrame({\"a\":[1,2,3]})\n",
    "print(df)\n",
    "\n"
   ]
  },
  {
   "cell_type": "code",
   "execution_count": 2,
   "metadata": {},
   "outputs": [
    {
     "name": "stdout",
     "output_type": "stream",
     "text": [
      "Requirement already satisfied: tensorflow in c:\\users\\user\\desktop\\code\\venv\\lib\\site-packages (2.20.0)\n",
      "Requirement already satisfied: absl-py>=1.0.0 in c:\\users\\user\\desktop\\code\\venv\\lib\\site-packages (from tensorflow) (2.3.1)\n",
      "Requirement already satisfied: astunparse>=1.6.0 in c:\\users\\user\\desktop\\code\\venv\\lib\\site-packages (from tensorflow) (1.6.3)\n",
      "Requirement already satisfied: flatbuffers>=24.3.25 in c:\\users\\user\\desktop\\code\\venv\\lib\\site-packages (from tensorflow) (25.9.23)\n",
      "Requirement already satisfied: gast!=0.5.0,!=0.5.1,!=0.5.2,>=0.2.1 in c:\\users\\user\\desktop\\code\\venv\\lib\\site-packages (from tensorflow) (0.6.0)\n",
      "Requirement already satisfied: google_pasta>=0.1.1 in c:\\users\\user\\desktop\\code\\venv\\lib\\site-packages (from tensorflow) (0.2.0)\n",
      "Requirement already satisfied: libclang>=13.0.0 in c:\\users\\user\\desktop\\code\\venv\\lib\\site-packages (from tensorflow) (18.1.1)\n",
      "Requirement already satisfied: opt_einsum>=2.3.2 in c:\\users\\user\\desktop\\code\\venv\\lib\\site-packages (from tensorflow) (3.4.0)\n",
      "Requirement already satisfied: packaging in c:\\users\\user\\desktop\\code\\venv\\lib\\site-packages (from tensorflow) (25.0)\n",
      "Requirement already satisfied: protobuf>=5.28.0 in c:\\users\\user\\desktop\\code\\venv\\lib\\site-packages (from tensorflow) (6.32.1)\n",
      "Requirement already satisfied: requests<3,>=2.21.0 in c:\\users\\user\\desktop\\code\\venv\\lib\\site-packages (from tensorflow) (2.32.5)\n",
      "Requirement already satisfied: setuptools in c:\\users\\user\\desktop\\code\\venv\\lib\\site-packages (from tensorflow) (78.1.1)\n",
      "Requirement already satisfied: six>=1.12.0 in c:\\users\\user\\desktop\\code\\venv\\lib\\site-packages (from tensorflow) (1.17.0)\n",
      "Requirement already satisfied: termcolor>=1.1.0 in c:\\users\\user\\desktop\\code\\venv\\lib\\site-packages (from tensorflow) (3.1.0)\n",
      "Requirement already satisfied: typing_extensions>=3.6.6 in c:\\users\\user\\desktop\\code\\venv\\lib\\site-packages (from tensorflow) (4.15.0)\n",
      "Requirement already satisfied: wrapt>=1.11.0 in c:\\users\\user\\desktop\\code\\venv\\lib\\site-packages (from tensorflow) (1.17.3)\n",
      "Requirement already satisfied: grpcio<2.0,>=1.24.3 in c:\\users\\user\\desktop\\code\\venv\\lib\\site-packages (from tensorflow) (1.75.1)\n",
      "Requirement already satisfied: tensorboard~=2.20.0 in c:\\users\\user\\desktop\\code\\venv\\lib\\site-packages (from tensorflow) (2.20.0)\n",
      "Requirement already satisfied: keras>=3.10.0 in c:\\users\\user\\desktop\\code\\venv\\lib\\site-packages (from tensorflow) (3.11.3)\n",
      "Requirement already satisfied: numpy>=1.26.0 in c:\\users\\user\\desktop\\code\\venv\\lib\\site-packages (from tensorflow) (2.3.3)\n",
      "Requirement already satisfied: h5py>=3.11.0 in c:\\users\\user\\desktop\\code\\venv\\lib\\site-packages (from tensorflow) (3.14.0)\n",
      "Requirement already satisfied: ml_dtypes<1.0.0,>=0.5.1 in c:\\users\\user\\desktop\\code\\venv\\lib\\site-packages (from tensorflow) (0.5.3)\n",
      "Requirement already satisfied: charset_normalizer<4,>=2 in c:\\users\\user\\desktop\\code\\venv\\lib\\site-packages (from requests<3,>=2.21.0->tensorflow) (3.4.3)\n",
      "Requirement already satisfied: idna<4,>=2.5 in c:\\users\\user\\desktop\\code\\venv\\lib\\site-packages (from requests<3,>=2.21.0->tensorflow) (3.10)\n",
      "Requirement already satisfied: urllib3<3,>=1.21.1 in c:\\users\\user\\desktop\\code\\venv\\lib\\site-packages (from requests<3,>=2.21.0->tensorflow) (2.5.0)\n",
      "Requirement already satisfied: certifi>=2017.4.17 in c:\\users\\user\\desktop\\code\\venv\\lib\\site-packages (from requests<3,>=2.21.0->tensorflow) (2025.8.3)\n",
      "Requirement already satisfied: markdown>=2.6.8 in c:\\users\\user\\desktop\\code\\venv\\lib\\site-packages (from tensorboard~=2.20.0->tensorflow) (3.9)\n",
      "Requirement already satisfied: pillow in c:\\users\\user\\desktop\\code\\venv\\lib\\site-packages (from tensorboard~=2.20.0->tensorflow) (11.3.0)\n",
      "Requirement already satisfied: tensorboard-data-server<0.8.0,>=0.7.0 in c:\\users\\user\\desktop\\code\\venv\\lib\\site-packages (from tensorboard~=2.20.0->tensorflow) (0.7.2)\n",
      "Requirement already satisfied: werkzeug>=1.0.1 in c:\\users\\user\\desktop\\code\\venv\\lib\\site-packages (from tensorboard~=2.20.0->tensorflow) (3.1.3)\n",
      "Requirement already satisfied: wheel<1.0,>=0.23.0 in c:\\users\\user\\desktop\\code\\venv\\lib\\site-packages (from astunparse>=1.6.0->tensorflow) (0.45.1)\n",
      "Requirement already satisfied: rich in c:\\users\\user\\desktop\\code\\venv\\lib\\site-packages (from keras>=3.10.0->tensorflow) (14.1.0)\n",
      "Requirement already satisfied: namex in c:\\users\\user\\desktop\\code\\venv\\lib\\site-packages (from keras>=3.10.0->tensorflow) (0.1.0)\n",
      "Requirement already satisfied: optree in c:\\users\\user\\desktop\\code\\venv\\lib\\site-packages (from keras>=3.10.0->tensorflow) (0.17.0)\n",
      "Requirement already satisfied: MarkupSafe>=2.1.1 in c:\\users\\user\\desktop\\code\\venv\\lib\\site-packages (from werkzeug>=1.0.1->tensorboard~=2.20.0->tensorflow) (3.0.3)\n",
      "Requirement already satisfied: markdown-it-py>=2.2.0 in c:\\users\\user\\desktop\\code\\venv\\lib\\site-packages (from rich->keras>=3.10.0->tensorflow) (4.0.0)\n",
      "Requirement already satisfied: pygments<3.0.0,>=2.13.0 in c:\\users\\user\\desktop\\code\\venv\\lib\\site-packages (from rich->keras>=3.10.0->tensorflow) (2.19.2)\n",
      "Requirement already satisfied: mdurl~=0.1 in c:\\users\\user\\desktop\\code\\venv\\lib\\site-packages (from markdown-it-py>=2.2.0->rich->keras>=3.10.0->tensorflow) (0.1.2)\n",
      "Requirement already satisfied: keras in c:\\users\\user\\desktop\\code\\venv\\lib\\site-packages (3.11.3)\n",
      "Requirement already satisfied: absl-py in c:\\users\\user\\desktop\\code\\venv\\lib\\site-packages (from keras) (2.3.1)\n",
      "Requirement already satisfied: numpy in c:\\users\\user\\desktop\\code\\venv\\lib\\site-packages (from keras) (2.3.3)\n",
      "Requirement already satisfied: rich in c:\\users\\user\\desktop\\code\\venv\\lib\\site-packages (from keras) (14.1.0)\n",
      "Requirement already satisfied: namex in c:\\users\\user\\desktop\\code\\venv\\lib\\site-packages (from keras) (0.1.0)\n",
      "Requirement already satisfied: h5py in c:\\users\\user\\desktop\\code\\venv\\lib\\site-packages (from keras) (3.14.0)\n",
      "Requirement already satisfied: optree in c:\\users\\user\\desktop\\code\\venv\\lib\\site-packages (from keras) (0.17.0)\n",
      "Requirement already satisfied: ml-dtypes in c:\\users\\user\\desktop\\code\\venv\\lib\\site-packages (from keras) (0.5.3)\n",
      "Requirement already satisfied: packaging in c:\\users\\user\\desktop\\code\\venv\\lib\\site-packages (from keras) (25.0)\n",
      "Requirement already satisfied: typing-extensions>=4.6.0 in c:\\users\\user\\desktop\\code\\venv\\lib\\site-packages (from optree->keras) (4.15.0)\n",
      "Requirement already satisfied: markdown-it-py>=2.2.0 in c:\\users\\user\\desktop\\code\\venv\\lib\\site-packages (from rich->keras) (4.0.0)\n",
      "Requirement already satisfied: pygments<3.0.0,>=2.13.0 in c:\\users\\user\\desktop\\code\\venv\\lib\\site-packages (from rich->keras) (2.19.2)\n",
      "Requirement already satisfied: mdurl~=0.1 in c:\\users\\user\\desktop\\code\\venv\\lib\\site-packages (from markdown-it-py>=2.2.0->rich->keras) (0.1.2)\n"
     ]
    }
   ],
   "source": [
    "!pip install tensorflow\n",
    "!pip install keras\n",
    "from tensorflow.keras.preprocessing.text import one_hot"
   ]
  },
  {
   "cell_type": "code",
   "execution_count": 3,
   "metadata": {},
   "outputs": [],
   "source": [
    "### sentences\n",
    "sent=[  'the glass of milk',\n",
    "     'the glass of juice',\n",
    "     'the cup of tea',\n",
    "    'I am a good boy',\n",
    "     'I am a good developer',\n",
    "     'understand the meaning of words',\n",
    "     'your videos are good',]"
   ]
  },
  {
   "cell_type": "code",
   "execution_count": 4,
   "metadata": {},
   "outputs": [
    {
     "data": {
      "text/plain": [
       "['the glass of milk',\n",
       " 'the glass of juice',\n",
       " 'the cup of tea',\n",
       " 'I am a good boy',\n",
       " 'I am a good developer',\n",
       " 'understand the meaning of words',\n",
       " 'your videos are good']"
      ]
     },
     "execution_count": 4,
     "metadata": {},
     "output_type": "execute_result"
    }
   ],
   "source": [
    "sent"
   ]
  },
  {
   "cell_type": "code",
   "execution_count": 5,
   "metadata": {},
   "outputs": [],
   "source": [
    "## Define the vocabulary size\n",
    "voc_size=10000"
   ]
  },
  {
   "cell_type": "code",
   "execution_count": 6,
   "metadata": {},
   "outputs": [
    {
     "data": {
      "text/plain": [
       "['the glass of milk',\n",
       " 'the glass of juice',\n",
       " 'the cup of tea',\n",
       " 'I am a good boy',\n",
       " 'I am a good developer',\n",
       " 'understand the meaning of words',\n",
       " 'your videos are good']"
      ]
     },
     "execution_count": 6,
     "metadata": {},
     "output_type": "execute_result"
    }
   ],
   "source": [
    "sent"
   ]
  },
  {
   "cell_type": "code",
   "execution_count": 7,
   "metadata": {},
   "outputs": [
    {
     "data": {
      "text/plain": [
       "[[9419, 9552, 6187, 5626],\n",
       " [9419, 9552, 6187, 9714],\n",
       " [9419, 8331, 6187, 4946],\n",
       " [1546, 2717, 464, 1735, 2698],\n",
       " [1546, 2717, 464, 1735, 6837],\n",
       " [5571, 9419, 4595, 6187, 7969],\n",
       " [9290, 7143, 4328, 1735]]"
      ]
     },
     "execution_count": 7,
     "metadata": {},
     "output_type": "execute_result"
    }
   ],
   "source": [
    "### One Hot Representation\n",
    "one_hot_repr=[one_hot(words,voc_size)for words in sent]\n",
    "one_hot_repr"
   ]
  },
  {
   "cell_type": "code",
   "execution_count": 8,
   "metadata": {},
   "outputs": [],
   "source": [
    "## word Embedding Representation\n",
    "\n",
    "from tensorflow.keras.layers import Embedding\n",
    "#from tensorflow.keras.processing.sequence import pad_sequences\n",
    "from tensorflow.keras.utils import pad_sequences\n",
    "from tensorflow.keras.models import Sequential"
   ]
  },
  {
   "cell_type": "code",
   "execution_count": 9,
   "metadata": {},
   "outputs": [],
   "source": [
    "import numpy as np"
   ]
  },
  {
   "cell_type": "code",
   "execution_count": 10,
   "metadata": {},
   "outputs": [
    {
     "name": "stdout",
     "output_type": "stream",
     "text": [
      "[[   0    0    0    0 9419 9552 6187 5626]\n",
      " [   0    0    0    0 9419 9552 6187 9714]\n",
      " [   0    0    0    0 9419 8331 6187 4946]\n",
      " [   0    0    0 1546 2717  464 1735 2698]\n",
      " [   0    0    0 1546 2717  464 1735 6837]\n",
      " [   0    0    0 5571 9419 4595 6187 7969]\n",
      " [   0    0    0    0 9290 7143 4328 1735]]\n"
     ]
    }
   ],
   "source": [
    "sent_length=8\n",
    "embedded_docs=pad_sequences(one_hot_repr,padding='pre',maxlen=sent_length)\n",
    "print(embedded_docs)"
   ]
  },
  {
   "cell_type": "code",
   "execution_count": 11,
   "metadata": {},
   "outputs": [],
   "source": [
    "## feature representation\n",
    "dim=10"
   ]
  },
  {
   "cell_type": "code",
   "execution_count": 12,
   "metadata": {},
   "outputs": [
    {
     "name": "stderr",
     "output_type": "stream",
     "text": [
      "c:\\Users\\User\\Desktop\\CODE\\venv\\Lib\\site-packages\\keras\\src\\layers\\core\\embedding.py:97: UserWarning: Argument `input_length` is deprecated. Just remove it.\n",
      "  warnings.warn(\n"
     ]
    }
   ],
   "source": [
    "model=Sequential()\n",
    "model.add(Embedding(voc_size,dim,input_length=sent_length))\n",
    "model.compile('adam','mse')"
   ]
  },
  {
   "cell_type": "code",
   "execution_count": 13,
   "metadata": {},
   "outputs": [
    {
     "data": {
      "text/html": [
       "<pre style=\"white-space:pre;overflow-x:auto;line-height:normal;font-family:Menlo,'DejaVu Sans Mono',consolas,'Courier New',monospace\"><span style=\"font-weight: bold\">Model: \"sequential\"</span>\n",
       "</pre>\n"
      ],
      "text/plain": [
       "\u001b[1mModel: \"sequential\"\u001b[0m\n"
      ]
     },
     "metadata": {},
     "output_type": "display_data"
    },
    {
     "data": {
      "text/html": [
       "<pre style=\"white-space:pre;overflow-x:auto;line-height:normal;font-family:Menlo,'DejaVu Sans Mono',consolas,'Courier New',monospace\">┏━━━━━━━━━━━━━━━━━━━━━━━━━━━━━━━━━┳━━━━━━━━━━━━━━━━━━━━━━━━┳━━━━━━━━━━━━━━━┓\n",
       "┃<span style=\"font-weight: bold\"> Layer (type)                    </span>┃<span style=\"font-weight: bold\"> Output Shape           </span>┃<span style=\"font-weight: bold\">       Param # </span>┃\n",
       "┡━━━━━━━━━━━━━━━━━━━━━━━━━━━━━━━━━╇━━━━━━━━━━━━━━━━━━━━━━━━╇━━━━━━━━━━━━━━━┩\n",
       "│ embedding (<span style=\"color: #0087ff; text-decoration-color: #0087ff\">Embedding</span>)           │ ?                      │   <span style=\"color: #00af00; text-decoration-color: #00af00\">0</span> (unbuilt) │\n",
       "└─────────────────────────────────┴────────────────────────┴───────────────┘\n",
       "</pre>\n"
      ],
      "text/plain": [
       "┏━━━━━━━━━━━━━━━━━━━━━━━━━━━━━━━━━┳━━━━━━━━━━━━━━━━━━━━━━━━┳━━━━━━━━━━━━━━━┓\n",
       "┃\u001b[1m \u001b[0m\u001b[1mLayer (type)                   \u001b[0m\u001b[1m \u001b[0m┃\u001b[1m \u001b[0m\u001b[1mOutput Shape          \u001b[0m\u001b[1m \u001b[0m┃\u001b[1m \u001b[0m\u001b[1m      Param #\u001b[0m\u001b[1m \u001b[0m┃\n",
       "┡━━━━━━━━━━━━━━━━━━━━━━━━━━━━━━━━━╇━━━━━━━━━━━━━━━━━━━━━━━━╇━━━━━━━━━━━━━━━┩\n",
       "│ embedding (\u001b[38;5;33mEmbedding\u001b[0m)           │ ?                      │   \u001b[38;5;34m0\u001b[0m (unbuilt) │\n",
       "└─────────────────────────────────┴────────────────────────┴───────────────┘\n"
      ]
     },
     "metadata": {},
     "output_type": "display_data"
    },
    {
     "data": {
      "text/html": [
       "<pre style=\"white-space:pre;overflow-x:auto;line-height:normal;font-family:Menlo,'DejaVu Sans Mono',consolas,'Courier New',monospace\"><span style=\"font-weight: bold\"> Total params: </span><span style=\"color: #00af00; text-decoration-color: #00af00\">0</span> (0.00 B)\n",
       "</pre>\n"
      ],
      "text/plain": [
       "\u001b[1m Total params: \u001b[0m\u001b[38;5;34m0\u001b[0m (0.00 B)\n"
      ]
     },
     "metadata": {},
     "output_type": "display_data"
    },
    {
     "data": {
      "text/html": [
       "<pre style=\"white-space:pre;overflow-x:auto;line-height:normal;font-family:Menlo,'DejaVu Sans Mono',consolas,'Courier New',monospace\"><span style=\"font-weight: bold\"> Trainable params: </span><span style=\"color: #00af00; text-decoration-color: #00af00\">0</span> (0.00 B)\n",
       "</pre>\n"
      ],
      "text/plain": [
       "\u001b[1m Trainable params: \u001b[0m\u001b[38;5;34m0\u001b[0m (0.00 B)\n"
      ]
     },
     "metadata": {},
     "output_type": "display_data"
    },
    {
     "data": {
      "text/html": [
       "<pre style=\"white-space:pre;overflow-x:auto;line-height:normal;font-family:Menlo,'DejaVu Sans Mono',consolas,'Courier New',monospace\"><span style=\"font-weight: bold\"> Non-trainable params: </span><span style=\"color: #00af00; text-decoration-color: #00af00\">0</span> (0.00 B)\n",
       "</pre>\n"
      ],
      "text/plain": [
       "\u001b[1m Non-trainable params: \u001b[0m\u001b[38;5;34m0\u001b[0m (0.00 B)\n"
      ]
     },
     "metadata": {},
     "output_type": "display_data"
    }
   ],
   "source": [
    "model.summary()"
   ]
  },
  {
   "cell_type": "code",
   "execution_count": 14,
   "metadata": {},
   "outputs": [
    {
     "name": "stdout",
     "output_type": "stream",
     "text": [
      "\u001b[1m1/1\u001b[0m \u001b[32m━━━━━━━━━━━━━━━━━━━━\u001b[0m\u001b[37m\u001b[0m \u001b[1m0s\u001b[0m 345ms/step\n"
     ]
    },
    {
     "data": {
      "text/plain": [
       "array([[[-1.3011515e-02, -4.1410841e-02, -1.3808537e-02,  2.9418580e-03,\n",
       "          1.3707232e-02,  1.5546311e-02,  4.9170818e-02, -3.4966320e-04,\n",
       "          8.9527294e-04,  4.8423778e-02],\n",
       "        [-1.3011515e-02, -4.1410841e-02, -1.3808537e-02,  2.9418580e-03,\n",
       "          1.3707232e-02,  1.5546311e-02,  4.9170818e-02, -3.4966320e-04,\n",
       "          8.9527294e-04,  4.8423778e-02],\n",
       "        [-1.3011515e-02, -4.1410841e-02, -1.3808537e-02,  2.9418580e-03,\n",
       "          1.3707232e-02,  1.5546311e-02,  4.9170818e-02, -3.4966320e-04,\n",
       "          8.9527294e-04,  4.8423778e-02],\n",
       "        [-1.3011515e-02, -4.1410841e-02, -1.3808537e-02,  2.9418580e-03,\n",
       "          1.3707232e-02,  1.5546311e-02,  4.9170818e-02, -3.4966320e-04,\n",
       "          8.9527294e-04,  4.8423778e-02],\n",
       "        [ 1.9868899e-02,  2.0123508e-02,  4.5571256e-02, -8.6923726e-03,\n",
       "          3.7308719e-02,  1.1022020e-02, -1.5135132e-02,  4.1435067e-02,\n",
       "         -8.0499537e-03,  4.0060170e-03],\n",
       "        [ 3.7827119e-03, -3.4410845e-02,  1.9640055e-02, -4.1743658e-02,\n",
       "         -1.9560087e-02,  2.7058128e-02,  3.8418736e-02, -4.5604337e-02,\n",
       "          6.1373934e-03, -7.3063485e-03],\n",
       "        [ 8.4999092e-03,  2.0988394e-02, -3.3603810e-02, -4.1119456e-02,\n",
       "          3.4341428e-02,  8.0846250e-05, -3.7308276e-02, -2.1368980e-02,\n",
       "          4.9288522e-02,  1.9678507e-02],\n",
       "        [-2.6246106e-02,  1.0201715e-02, -1.5542008e-02, -1.5451454e-02,\n",
       "          4.4181380e-02, -2.1684527e-02,  4.4500832e-02,  4.4958148e-02,\n",
       "          6.8891793e-05,  4.8324559e-02]],\n",
       "\n",
       "       [[-1.3011515e-02, -4.1410841e-02, -1.3808537e-02,  2.9418580e-03,\n",
       "          1.3707232e-02,  1.5546311e-02,  4.9170818e-02, -3.4966320e-04,\n",
       "          8.9527294e-04,  4.8423778e-02],\n",
       "        [-1.3011515e-02, -4.1410841e-02, -1.3808537e-02,  2.9418580e-03,\n",
       "          1.3707232e-02,  1.5546311e-02,  4.9170818e-02, -3.4966320e-04,\n",
       "          8.9527294e-04,  4.8423778e-02],\n",
       "        [-1.3011515e-02, -4.1410841e-02, -1.3808537e-02,  2.9418580e-03,\n",
       "          1.3707232e-02,  1.5546311e-02,  4.9170818e-02, -3.4966320e-04,\n",
       "          8.9527294e-04,  4.8423778e-02],\n",
       "        [-1.3011515e-02, -4.1410841e-02, -1.3808537e-02,  2.9418580e-03,\n",
       "          1.3707232e-02,  1.5546311e-02,  4.9170818e-02, -3.4966320e-04,\n",
       "          8.9527294e-04,  4.8423778e-02],\n",
       "        [ 1.9868899e-02,  2.0123508e-02,  4.5571256e-02, -8.6923726e-03,\n",
       "          3.7308719e-02,  1.1022020e-02, -1.5135132e-02,  4.1435067e-02,\n",
       "         -8.0499537e-03,  4.0060170e-03],\n",
       "        [ 3.7827119e-03, -3.4410845e-02,  1.9640055e-02, -4.1743658e-02,\n",
       "         -1.9560087e-02,  2.7058128e-02,  3.8418736e-02, -4.5604337e-02,\n",
       "          6.1373934e-03, -7.3063485e-03],\n",
       "        [ 8.4999092e-03,  2.0988394e-02, -3.3603810e-02, -4.1119456e-02,\n",
       "          3.4341428e-02,  8.0846250e-05, -3.7308276e-02, -2.1368980e-02,\n",
       "          4.9288522e-02,  1.9678507e-02],\n",
       "        [ 3.5211448e-02,  7.2214119e-03, -1.7101359e-02, -4.0315282e-02,\n",
       "          2.4104621e-02, -3.8762845e-02, -1.6339671e-02, -2.6310826e-02,\n",
       "         -4.0422238e-02,  2.6032481e-02]],\n",
       "\n",
       "       [[-1.3011515e-02, -4.1410841e-02, -1.3808537e-02,  2.9418580e-03,\n",
       "          1.3707232e-02,  1.5546311e-02,  4.9170818e-02, -3.4966320e-04,\n",
       "          8.9527294e-04,  4.8423778e-02],\n",
       "        [-1.3011515e-02, -4.1410841e-02, -1.3808537e-02,  2.9418580e-03,\n",
       "          1.3707232e-02,  1.5546311e-02,  4.9170818e-02, -3.4966320e-04,\n",
       "          8.9527294e-04,  4.8423778e-02],\n",
       "        [-1.3011515e-02, -4.1410841e-02, -1.3808537e-02,  2.9418580e-03,\n",
       "          1.3707232e-02,  1.5546311e-02,  4.9170818e-02, -3.4966320e-04,\n",
       "          8.9527294e-04,  4.8423778e-02],\n",
       "        [-1.3011515e-02, -4.1410841e-02, -1.3808537e-02,  2.9418580e-03,\n",
       "          1.3707232e-02,  1.5546311e-02,  4.9170818e-02, -3.4966320e-04,\n",
       "          8.9527294e-04,  4.8423778e-02],\n",
       "        [ 1.9868899e-02,  2.0123508e-02,  4.5571256e-02, -8.6923726e-03,\n",
       "          3.7308719e-02,  1.1022020e-02, -1.5135132e-02,  4.1435067e-02,\n",
       "         -8.0499537e-03,  4.0060170e-03],\n",
       "        [ 3.8446460e-02,  1.5243888e-03,  1.0122646e-02,  2.4023678e-02,\n",
       "         -4.8366655e-02, -4.2729616e-02,  1.0805011e-02,  4.5734558e-02,\n",
       "         -2.9565208e-03, -3.0937696e-02],\n",
       "        [ 8.4999092e-03,  2.0988394e-02, -3.3603810e-02, -4.1119456e-02,\n",
       "          3.4341428e-02,  8.0846250e-05, -3.7308276e-02, -2.1368980e-02,\n",
       "          4.9288522e-02,  1.9678507e-02],\n",
       "        [ 2.5791828e-02,  3.9591674e-02, -4.8044275e-02, -2.2219373e-02,\n",
       "         -2.6819659e-02, -1.5884638e-04, -8.1555918e-04,  1.4903460e-02,\n",
       "          9.6770898e-03,  3.3604231e-02]],\n",
       "\n",
       "       [[-1.3011515e-02, -4.1410841e-02, -1.3808537e-02,  2.9418580e-03,\n",
       "          1.3707232e-02,  1.5546311e-02,  4.9170818e-02, -3.4966320e-04,\n",
       "          8.9527294e-04,  4.8423778e-02],\n",
       "        [-1.3011515e-02, -4.1410841e-02, -1.3808537e-02,  2.9418580e-03,\n",
       "          1.3707232e-02,  1.5546311e-02,  4.9170818e-02, -3.4966320e-04,\n",
       "          8.9527294e-04,  4.8423778e-02],\n",
       "        [-1.3011515e-02, -4.1410841e-02, -1.3808537e-02,  2.9418580e-03,\n",
       "          1.3707232e-02,  1.5546311e-02,  4.9170818e-02, -3.4966320e-04,\n",
       "          8.9527294e-04,  4.8423778e-02],\n",
       "        [-7.0539936e-03, -2.9238332e-02, -4.4029366e-02,  9.0323910e-03,\n",
       "         -4.0796377e-02, -3.7063301e-02,  2.0805027e-02,  3.5209011e-02,\n",
       "         -2.7745092e-02,  3.6764171e-02],\n",
       "        [ 1.7807510e-02, -5.4828301e-03,  2.4273846e-02,  9.7782612e-03,\n",
       "          4.0844593e-02, -3.2623708e-02,  1.2941506e-02,  4.3714631e-02,\n",
       "          9.1922507e-03, -3.1537592e-02],\n",
       "        [-3.9971627e-02,  2.0996425e-02,  2.7807061e-02,  1.7569948e-02,\n",
       "         -8.3895922e-03,  3.4216885e-02, -4.7179997e-02, -2.8356934e-02,\n",
       "          4.7034275e-02,  4.8658464e-02],\n",
       "        [-3.9766036e-02,  9.3942992e-03, -4.2491555e-03, -1.8903887e-02,\n",
       "          4.7621164e-02,  2.3482595e-02, -4.6335127e-02,  4.4675138e-02,\n",
       "         -3.1240154e-02,  1.7731320e-02],\n",
       "        [-3.1187618e-02,  3.1738210e-02,  1.9172382e-02, -4.8188057e-02,\n",
       "         -3.4905981e-02, -4.2813644e-03, -1.2914658e-02, -2.5820935e-02,\n",
       "         -5.7387948e-03,  1.9777004e-02]],\n",
       "\n",
       "       [[-1.3011515e-02, -4.1410841e-02, -1.3808537e-02,  2.9418580e-03,\n",
       "          1.3707232e-02,  1.5546311e-02,  4.9170818e-02, -3.4966320e-04,\n",
       "          8.9527294e-04,  4.8423778e-02],\n",
       "        [-1.3011515e-02, -4.1410841e-02, -1.3808537e-02,  2.9418580e-03,\n",
       "          1.3707232e-02,  1.5546311e-02,  4.9170818e-02, -3.4966320e-04,\n",
       "          8.9527294e-04,  4.8423778e-02],\n",
       "        [-1.3011515e-02, -4.1410841e-02, -1.3808537e-02,  2.9418580e-03,\n",
       "          1.3707232e-02,  1.5546311e-02,  4.9170818e-02, -3.4966320e-04,\n",
       "          8.9527294e-04,  4.8423778e-02],\n",
       "        [-7.0539936e-03, -2.9238332e-02, -4.4029366e-02,  9.0323910e-03,\n",
       "         -4.0796377e-02, -3.7063301e-02,  2.0805027e-02,  3.5209011e-02,\n",
       "         -2.7745092e-02,  3.6764171e-02],\n",
       "        [ 1.7807510e-02, -5.4828301e-03,  2.4273846e-02,  9.7782612e-03,\n",
       "          4.0844593e-02, -3.2623708e-02,  1.2941506e-02,  4.3714631e-02,\n",
       "          9.1922507e-03, -3.1537592e-02],\n",
       "        [-3.9971627e-02,  2.0996425e-02,  2.7807061e-02,  1.7569948e-02,\n",
       "         -8.3895922e-03,  3.4216885e-02, -4.7179997e-02, -2.8356934e-02,\n",
       "          4.7034275e-02,  4.8658464e-02],\n",
       "        [-3.9766036e-02,  9.3942992e-03, -4.2491555e-03, -1.8903887e-02,\n",
       "          4.7621164e-02,  2.3482595e-02, -4.6335127e-02,  4.4675138e-02,\n",
       "         -3.1240154e-02,  1.7731320e-02],\n",
       "        [-3.9005101e-02, -1.9526446e-02,  2.8476242e-02,  4.8747446e-02,\n",
       "          3.9921883e-02, -2.8585959e-02,  3.3987585e-02,  5.5940524e-03,\n",
       "         -3.0221332e-02, -3.8078059e-02]],\n",
       "\n",
       "       [[-1.3011515e-02, -4.1410841e-02, -1.3808537e-02,  2.9418580e-03,\n",
       "          1.3707232e-02,  1.5546311e-02,  4.9170818e-02, -3.4966320e-04,\n",
       "          8.9527294e-04,  4.8423778e-02],\n",
       "        [-1.3011515e-02, -4.1410841e-02, -1.3808537e-02,  2.9418580e-03,\n",
       "          1.3707232e-02,  1.5546311e-02,  4.9170818e-02, -3.4966320e-04,\n",
       "          8.9527294e-04,  4.8423778e-02],\n",
       "        [-1.3011515e-02, -4.1410841e-02, -1.3808537e-02,  2.9418580e-03,\n",
       "          1.3707232e-02,  1.5546311e-02,  4.9170818e-02, -3.4966320e-04,\n",
       "          8.9527294e-04,  4.8423778e-02],\n",
       "        [ 2.4595272e-02, -2.7096236e-02, -5.2037016e-03, -2.2190763e-02,\n",
       "         -3.5899222e-02,  4.6092514e-02,  7.8786016e-03, -1.2425400e-02,\n",
       "         -1.9067049e-02, -3.3251308e-02],\n",
       "        [ 1.9868899e-02,  2.0123508e-02,  4.5571256e-02, -8.6923726e-03,\n",
       "          3.7308719e-02,  1.1022020e-02, -1.5135132e-02,  4.1435067e-02,\n",
       "         -8.0499537e-03,  4.0060170e-03],\n",
       "        [ 9.5397718e-03,  1.8466700e-02, -3.7598073e-02, -2.5971008e-02,\n",
       "          2.4529662e-02,  2.8778050e-02, -2.8788304e-02, -7.0893057e-03,\n",
       "          9.2550628e-03,  4.5252327e-02],\n",
       "        [ 8.4999092e-03,  2.0988394e-02, -3.3603810e-02, -4.1119456e-02,\n",
       "          3.4341428e-02,  8.0846250e-05, -3.7308276e-02, -2.1368980e-02,\n",
       "          4.9288522e-02,  1.9678507e-02],\n",
       "        [ 4.5129869e-02,  1.7096426e-02, -5.0161108e-03,  3.7658300e-02,\n",
       "         -2.3764253e-02,  3.6914323e-02, -3.7400164e-02,  3.5634231e-02,\n",
       "          3.6803011e-02, -4.7609188e-02]],\n",
       "\n",
       "       [[-1.3011515e-02, -4.1410841e-02, -1.3808537e-02,  2.9418580e-03,\n",
       "          1.3707232e-02,  1.5546311e-02,  4.9170818e-02, -3.4966320e-04,\n",
       "          8.9527294e-04,  4.8423778e-02],\n",
       "        [-1.3011515e-02, -4.1410841e-02, -1.3808537e-02,  2.9418580e-03,\n",
       "          1.3707232e-02,  1.5546311e-02,  4.9170818e-02, -3.4966320e-04,\n",
       "          8.9527294e-04,  4.8423778e-02],\n",
       "        [-1.3011515e-02, -4.1410841e-02, -1.3808537e-02,  2.9418580e-03,\n",
       "          1.3707232e-02,  1.5546311e-02,  4.9170818e-02, -3.4966320e-04,\n",
       "          8.9527294e-04,  4.8423778e-02],\n",
       "        [-1.3011515e-02, -4.1410841e-02, -1.3808537e-02,  2.9418580e-03,\n",
       "          1.3707232e-02,  1.5546311e-02,  4.9170818e-02, -3.4966320e-04,\n",
       "          8.9527294e-04,  4.8423778e-02],\n",
       "        [-2.7026905e-02, -4.8807487e-03, -1.9791579e-02, -2.6007533e-02,\n",
       "          4.6096537e-02,  3.2773938e-02, -1.0287594e-02, -4.8827779e-02,\n",
       "         -4.5599796e-02, -1.7894730e-03],\n",
       "        [ 1.2290120e-02, -2.6966548e-02, -2.4095273e-02,  4.5751598e-02,\n",
       "          3.0443791e-02, -4.1618932e-02,  3.3605639e-02,  2.1035720e-02,\n",
       "         -3.4035958e-02, -4.4541966e-02],\n",
       "        [-1.3558436e-02, -4.4932462e-02,  2.1622632e-02,  3.8982835e-02,\n",
       "          1.6181234e-02, -3.0923737e-02,  1.0507904e-02, -2.6162589e-02,\n",
       "          3.0912187e-02, -4.3305840e-02],\n",
       "        [-3.9766036e-02,  9.3942992e-03, -4.2491555e-03, -1.8903887e-02,\n",
       "          4.7621164e-02,  2.3482595e-02, -4.6335127e-02,  4.4675138e-02,\n",
       "         -3.1240154e-02,  1.7731320e-02]]], dtype=float32)"
      ]
     },
     "execution_count": 14,
     "metadata": {},
     "output_type": "execute_result"
    }
   ],
   "source": [
    "model.predict(embedded_docs)"
   ]
  },
  {
   "cell_type": "code",
   "execution_count": 15,
   "metadata": {},
   "outputs": [
    {
     "data": {
      "text/plain": [
       "array([   0,    0,    0,    0, 9419, 9552, 6187, 5626], dtype=int32)"
      ]
     },
     "execution_count": 15,
     "metadata": {},
     "output_type": "execute_result"
    }
   ],
   "source": [
    "embedded_docs[0]"
   ]
  },
  {
   "cell_type": "code",
   "execution_count": 16,
   "metadata": {},
   "outputs": [
    {
     "name": "stdout",
     "output_type": "stream",
     "text": [
      "\u001b[1m1/1\u001b[0m \u001b[32m━━━━━━━━━━━━━━━━━━━━\u001b[0m\u001b[37m\u001b[0m \u001b[1m0s\u001b[0m 110ms/step\n"
     ]
    },
    {
     "data": {
      "text/plain": [
       "array([[[-1.3011515e-02, -4.1410841e-02, -1.3808537e-02,  2.9418580e-03,\n",
       "          1.3707232e-02,  1.5546311e-02,  4.9170818e-02, -3.4966320e-04,\n",
       "          8.9527294e-04,  4.8423778e-02],\n",
       "        [-1.3011515e-02, -4.1410841e-02, -1.3808537e-02,  2.9418580e-03,\n",
       "          1.3707232e-02,  1.5546311e-02,  4.9170818e-02, -3.4966320e-04,\n",
       "          8.9527294e-04,  4.8423778e-02],\n",
       "        [-1.3011515e-02, -4.1410841e-02, -1.3808537e-02,  2.9418580e-03,\n",
       "          1.3707232e-02,  1.5546311e-02,  4.9170818e-02, -3.4966320e-04,\n",
       "          8.9527294e-04,  4.8423778e-02],\n",
       "        [-1.3011515e-02, -4.1410841e-02, -1.3808537e-02,  2.9418580e-03,\n",
       "          1.3707232e-02,  1.5546311e-02,  4.9170818e-02, -3.4966320e-04,\n",
       "          8.9527294e-04,  4.8423778e-02],\n",
       "        [ 1.9868899e-02,  2.0123508e-02,  4.5571256e-02, -8.6923726e-03,\n",
       "          3.7308719e-02,  1.1022020e-02, -1.5135132e-02,  4.1435067e-02,\n",
       "         -8.0499537e-03,  4.0060170e-03],\n",
       "        [ 3.7827119e-03, -3.4410845e-02,  1.9640055e-02, -4.1743658e-02,\n",
       "         -1.9560087e-02,  2.7058128e-02,  3.8418736e-02, -4.5604337e-02,\n",
       "          6.1373934e-03, -7.3063485e-03],\n",
       "        [ 8.4999092e-03,  2.0988394e-02, -3.3603810e-02, -4.1119456e-02,\n",
       "          3.4341428e-02,  8.0846250e-05, -3.7308276e-02, -2.1368980e-02,\n",
       "          4.9288522e-02,  1.9678507e-02],\n",
       "        [-2.6246106e-02,  1.0201715e-02, -1.5542008e-02, -1.5451454e-02,\n",
       "          4.4181380e-02, -2.1684527e-02,  4.4500832e-02,  4.4958148e-02,\n",
       "          6.8891793e-05,  4.8324559e-02]]], dtype=float32)"
      ]
     },
     "execution_count": 16,
     "metadata": {},
     "output_type": "execute_result"
    }
   ],
   "source": [
    "model.predict(np.array([embedded_docs[0]]))\n"
   ]
  },
  {
   "cell_type": "code",
   "execution_count": null,
   "metadata": {},
   "outputs": [],
   "source": []
  },
  {
   "cell_type": "code",
   "execution_count": null,
   "metadata": {},
   "outputs": [],
   "source": []
  }
 ],
 "metadata": {
  "kernelspec": {
   "display_name": "Python 3",
   "language": "python",
   "name": "python3"
  },
  "language_info": {
   "codemirror_mode": {
    "name": "ipython",
    "version": 3
   },
   "file_extension": ".py",
   "mimetype": "text/x-python",
   "name": "python",
   "nbconvert_exporter": "python",
   "pygments_lexer": "ipython3",
   "version": "3.12.0"
  }
 },
 "nbformat": 4,
 "nbformat_minor": 2
}
