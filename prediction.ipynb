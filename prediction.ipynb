{
 "cells": [
  {
   "cell_type": "code",
   "execution_count": 1,
   "metadata": {},
   "outputs": [],
   "source": [
    "# Step 1: Import Libraries and Load the Model\n",
    "import numpy as np\n",
    "import tensorflow as tf\n",
    "from tensorflow.keras.datasets import imdb\n",
    "from tensorflow.keras.preprocessing import sequence\n",
    "from tensorflow.keras.models import load_model"
   ]
  },
  {
   "cell_type": "code",
   "execution_count": 2,
   "metadata": {},
   "outputs": [],
   "source": [
    "\n",
    "# Load the IMDB dataset word index\n",
    "word_index = imdb.get_word_index()\n",
    "reverse_word_index = {value: key for key, value in word_index.items()}"
   ]
  },
  {
   "cell_type": "code",
   "execution_count": 3,
   "metadata": {},
   "outputs": [
    {
     "name": "stderr",
     "output_type": "stream",
     "text": [
      "WARNING:absl:Compiled the loaded model, but the compiled metrics have yet to be built. `model.compile_metrics` will be empty until you train or evaluate the model.\n"
     ]
    },
    {
     "data": {
      "text/html": [
       "<pre style=\"white-space:pre;overflow-x:auto;line-height:normal;font-family:Menlo,'DejaVu Sans Mono',consolas,'Courier New',monospace\"><span style=\"font-weight: bold\">Model: \"sequential\"</span>\n",
       "</pre>\n"
      ],
      "text/plain": [
       "\u001b[1mModel: \"sequential\"\u001b[0m\n"
      ]
     },
     "metadata": {},
     "output_type": "display_data"
    },
    {
     "data": {
      "text/html": [
       "<pre style=\"white-space:pre;overflow-x:auto;line-height:normal;font-family:Menlo,'DejaVu Sans Mono',consolas,'Courier New',monospace\">┏━━━━━━━━━━━━━━━━━━━━━━━━━━━━━━━━━┳━━━━━━━━━━━━━━━━━━━━━━━━┳━━━━━━━━━━━━━━━┓\n",
       "┃<span style=\"font-weight: bold\"> Layer (type)                    </span>┃<span style=\"font-weight: bold\"> Output Shape           </span>┃<span style=\"font-weight: bold\">       Param # </span>┃\n",
       "┡━━━━━━━━━━━━━━━━━━━━━━━━━━━━━━━━━╇━━━━━━━━━━━━━━━━━━━━━━━━╇━━━━━━━━━━━━━━━┩\n",
       "│ embedding (<span style=\"color: #0087ff; text-decoration-color: #0087ff\">Embedding</span>)           │ (<span style=\"color: #00af00; text-decoration-color: #00af00\">32</span>, <span style=\"color: #00af00; text-decoration-color: #00af00\">500</span>, <span style=\"color: #00af00; text-decoration-color: #00af00\">128</span>)         │     <span style=\"color: #00af00; text-decoration-color: #00af00\">1,280,000</span> │\n",
       "├─────────────────────────────────┼────────────────────────┼───────────────┤\n",
       "│ simple_rnn (<span style=\"color: #0087ff; text-decoration-color: #0087ff\">SimpleRNN</span>)          │ (<span style=\"color: #00af00; text-decoration-color: #00af00\">32</span>, <span style=\"color: #00af00; text-decoration-color: #00af00\">128</span>)              │        <span style=\"color: #00af00; text-decoration-color: #00af00\">32,896</span> │\n",
       "├─────────────────────────────────┼────────────────────────┼───────────────┤\n",
       "│ dense (<span style=\"color: #0087ff; text-decoration-color: #0087ff\">Dense</span>)                   │ (<span style=\"color: #00af00; text-decoration-color: #00af00\">32</span>, <span style=\"color: #00af00; text-decoration-color: #00af00\">1</span>)                │           <span style=\"color: #00af00; text-decoration-color: #00af00\">129</span> │\n",
       "└─────────────────────────────────┴────────────────────────┴───────────────┘\n",
       "</pre>\n"
      ],
      "text/plain": [
       "┏━━━━━━━━━━━━━━━━━━━━━━━━━━━━━━━━━┳━━━━━━━━━━━━━━━━━━━━━━━━┳━━━━━━━━━━━━━━━┓\n",
       "┃\u001b[1m \u001b[0m\u001b[1mLayer (type)                   \u001b[0m\u001b[1m \u001b[0m┃\u001b[1m \u001b[0m\u001b[1mOutput Shape          \u001b[0m\u001b[1m \u001b[0m┃\u001b[1m \u001b[0m\u001b[1m      Param #\u001b[0m\u001b[1m \u001b[0m┃\n",
       "┡━━━━━━━━━━━━━━━━━━━━━━━━━━━━━━━━━╇━━━━━━━━━━━━━━━━━━━━━━━━╇━━━━━━━━━━━━━━━┩\n",
       "│ embedding (\u001b[38;5;33mEmbedding\u001b[0m)           │ (\u001b[38;5;34m32\u001b[0m, \u001b[38;5;34m500\u001b[0m, \u001b[38;5;34m128\u001b[0m)         │     \u001b[38;5;34m1,280,000\u001b[0m │\n",
       "├─────────────────────────────────┼────────────────────────┼───────────────┤\n",
       "│ simple_rnn (\u001b[38;5;33mSimpleRNN\u001b[0m)          │ (\u001b[38;5;34m32\u001b[0m, \u001b[38;5;34m128\u001b[0m)              │        \u001b[38;5;34m32,896\u001b[0m │\n",
       "├─────────────────────────────────┼────────────────────────┼───────────────┤\n",
       "│ dense (\u001b[38;5;33mDense\u001b[0m)                   │ (\u001b[38;5;34m32\u001b[0m, \u001b[38;5;34m1\u001b[0m)                │           \u001b[38;5;34m129\u001b[0m │\n",
       "└─────────────────────────────────┴────────────────────────┴───────────────┘\n"
      ]
     },
     "metadata": {},
     "output_type": "display_data"
    },
    {
     "data": {
      "text/html": [
       "<pre style=\"white-space:pre;overflow-x:auto;line-height:normal;font-family:Menlo,'DejaVu Sans Mono',consolas,'Courier New',monospace\"><span style=\"font-weight: bold\"> Total params: </span><span style=\"color: #00af00; text-decoration-color: #00af00\">1,313,027</span> (5.01 MB)\n",
       "</pre>\n"
      ],
      "text/plain": [
       "\u001b[1m Total params: \u001b[0m\u001b[38;5;34m1,313,027\u001b[0m (5.01 MB)\n"
      ]
     },
     "metadata": {},
     "output_type": "display_data"
    },
    {
     "data": {
      "text/html": [
       "<pre style=\"white-space:pre;overflow-x:auto;line-height:normal;font-family:Menlo,'DejaVu Sans Mono',consolas,'Courier New',monospace\"><span style=\"font-weight: bold\"> Trainable params: </span><span style=\"color: #00af00; text-decoration-color: #00af00\">1,313,025</span> (5.01 MB)\n",
       "</pre>\n"
      ],
      "text/plain": [
       "\u001b[1m Trainable params: \u001b[0m\u001b[38;5;34m1,313,025\u001b[0m (5.01 MB)\n"
      ]
     },
     "metadata": {},
     "output_type": "display_data"
    },
    {
     "data": {
      "text/html": [
       "<pre style=\"white-space:pre;overflow-x:auto;line-height:normal;font-family:Menlo,'DejaVu Sans Mono',consolas,'Courier New',monospace\"><span style=\"font-weight: bold\"> Non-trainable params: </span><span style=\"color: #00af00; text-decoration-color: #00af00\">0</span> (0.00 B)\n",
       "</pre>\n"
      ],
      "text/plain": [
       "\u001b[1m Non-trainable params: \u001b[0m\u001b[38;5;34m0\u001b[0m (0.00 B)\n"
      ]
     },
     "metadata": {},
     "output_type": "display_data"
    },
    {
     "data": {
      "text/html": [
       "<pre style=\"white-space:pre;overflow-x:auto;line-height:normal;font-family:Menlo,'DejaVu Sans Mono',consolas,'Courier New',monospace\"><span style=\"font-weight: bold\"> Optimizer params: </span><span style=\"color: #00af00; text-decoration-color: #00af00\">2</span> (12.00 B)\n",
       "</pre>\n"
      ],
      "text/plain": [
       "\u001b[1m Optimizer params: \u001b[0m\u001b[38;5;34m2\u001b[0m (12.00 B)\n"
      ]
     },
     "metadata": {},
     "output_type": "display_data"
    }
   ],
   "source": [
    "# Load the pre-trained model with ReLU activation\n",
    "model = load_model('simple_rnn_imdb.h5')\n",
    "model.summary()"
   ]
  },
  {
   "cell_type": "code",
   "execution_count": 4,
   "metadata": {},
   "outputs": [
    {
     "data": {
      "text/plain": [
       "[array([[ 0.16612463, -0.17056456, -0.17851253, ..., -0.25103647,\n",
       "          0.28531826,  0.15491685],\n",
       "        [ 0.02543471, -0.03037264, -0.00520461, ..., -0.00679601,\n",
       "          0.02316965,  0.00739832],\n",
       "        [ 0.04290263,  0.01007791, -0.05862515, ..., -0.00295667,\n",
       "         -0.00290208, -0.11005031],\n",
       "        ...,\n",
       "        [ 0.03324324, -0.04252261,  0.01172078, ..., -0.01270103,\n",
       "         -0.02670478,  0.01566237],\n",
       "        [ 0.04547472,  0.0589238 ,  0.06694732, ...,  0.04613933,\n",
       "          0.05076428,  0.01930498],\n",
       "        [ 0.03570041, -0.02344664, -0.05033429, ...,  0.0145434 ,\n",
       "         -0.00770708, -0.0513645 ]], shape=(10000, 128), dtype=float32),\n",
       " array([[-0.10894954, -0.07402555,  0.0005414 , ..., -0.14738676,\n",
       "          0.10356671, -0.01509191],\n",
       "        [ 0.04638257, -0.11265562, -0.05764636, ..., -0.04395043,\n",
       "         -0.02785463, -0.11156637],\n",
       "        [-0.05207606,  0.1381893 ,  0.03658018, ...,  0.05245334,\n",
       "          0.1557331 ,  0.08901048],\n",
       "        ...,\n",
       "        [-0.07284252,  0.08951662,  0.1493475 , ...,  0.02199524,\n",
       "          0.13059479,  0.13299009],\n",
       "        [-0.09187429, -0.05163364,  0.01683929, ...,  0.01958245,\n",
       "         -0.11358214, -0.11269838],\n",
       "        [ 0.09552002, -0.17343965, -0.0018593 , ...,  0.13819572,\n",
       "          0.10118534, -0.03171068]], shape=(128, 128), dtype=float32),\n",
       " array([[-0.13860646,  0.02014475,  0.0289801 , ..., -0.01572577,\n",
       "         -0.09748074, -0.06966853],\n",
       "        [-0.01155558,  0.0238579 , -0.00286179, ..., -0.14206834,\n",
       "          0.02394692, -0.07664736],\n",
       "        [ 0.11502126,  0.13127534,  0.07802252, ...,  0.03582174,\n",
       "          0.12210315,  0.0470184 ],\n",
       "        ...,\n",
       "        [-0.01222449, -0.10267655,  0.03533819, ...,  0.02440611,\n",
       "         -0.15591092, -0.08305708],\n",
       "        [-0.13561761, -0.00892528, -0.05138858, ..., -0.08990868,\n",
       "          0.19106881,  0.13627933],\n",
       "        [-0.14531744,  0.05679331,  0.05495236, ..., -0.00464483,\n",
       "         -0.01736669, -0.07038776]], shape=(128, 128), dtype=float32),\n",
       " array([-0.03463943,  0.00605926, -0.03281832,  0.04940518,  0.05208998,\n",
       "        -0.01915632, -0.0354685 , -0.02051054,  0.00420397, -0.05498113,\n",
       "        -0.00775737, -0.01504605,  0.00949477, -0.02595113, -0.00569538,\n",
       "        -0.04312304,  0.00636198,  0.03931543,  0.0578923 , -0.0352399 ,\n",
       "        -0.02899234,  0.04977833, -0.02851982,  0.00052405,  0.03452672,\n",
       "         0.0249712 ,  0.00855962,  0.06253498, -0.0517916 , -0.00946312,\n",
       "        -0.03015312, -0.00063808, -0.03477133, -0.00896932, -0.00921592,\n",
       "         0.03228788, -0.03057692,  0.01465584, -0.04383035, -0.00088667,\n",
       "         0.01910432,  0.03131124, -0.02575896, -0.02507814,  0.00277158,\n",
       "         0.03467853,  0.00609141, -0.01626268, -0.04898205, -0.00258688,\n",
       "        -0.03993196, -0.0325263 , -0.02676152,  0.02533954,  0.00178539,\n",
       "        -0.02156247, -0.00571851, -0.00966979, -0.0402409 ,  0.02738667,\n",
       "        -0.02029654, -0.01201184, -0.02167466,  0.027402  , -0.02985173,\n",
       "         0.02568081, -0.04843953, -0.02743603,  0.01867697, -0.04804482,\n",
       "         0.0333012 , -0.02418251, -0.00900248,  0.0358112 , -0.03871619,\n",
       "        -0.03114109, -0.03684611, -0.02779656, -0.03286191, -0.04362407,\n",
       "        -0.04989996,  0.03510343, -0.03111908, -0.02080761, -0.00477375,\n",
       "        -0.00346239,  0.02352419,  0.00860778, -0.01103162, -0.00782613,\n",
       "        -0.02360834,  0.00631048, -0.03630093, -0.00882857, -0.02192348,\n",
       "        -0.01920927, -0.04060519, -0.02245218,  0.05459976, -0.02609289,\n",
       "         0.01169041,  0.01647422,  0.01337238,  0.02034095, -0.01885316,\n",
       "        -0.00763217, -0.00605731, -0.03474134,  0.06754036,  0.02116049,\n",
       "         0.0243501 ,  0.02276947, -0.02797249, -0.01301064,  0.01381378,\n",
       "        -0.01316199, -0.00018547,  0.00922636, -0.02233406,  0.01061027,\n",
       "        -0.00674397,  0.0091341 ,  0.00877368,  0.00851431,  0.01835451,\n",
       "         0.01003338, -0.02025717, -0.03858835], dtype=float32),\n",
       " array([[-4.86154929e-02],\n",
       "        [ 4.31524031e-02],\n",
       "        [-2.19885632e-02],\n",
       "        [ 5.98130450e-02],\n",
       "        [-1.84634462e-01],\n",
       "        [ 4.61906999e-01],\n",
       "        [ 8.84599090e-02],\n",
       "        [-2.07031220e-01],\n",
       "        [ 6.16282374e-02],\n",
       "        [-2.77428716e-01],\n",
       "        [-1.04832731e-01],\n",
       "        [ 9.17524546e-02],\n",
       "        [-1.16571121e-01],\n",
       "        [-1.63335219e-01],\n",
       "        [-1.29076466e-02],\n",
       "        [ 2.97735874e-02],\n",
       "        [ 5.82638867e-02],\n",
       "        [ 9.17274226e-03],\n",
       "        [ 7.04210624e-03],\n",
       "        [-6.68919086e-02],\n",
       "        [-6.09385669e-02],\n",
       "        [ 1.15903085e-02],\n",
       "        [ 3.68491237e-05],\n",
       "        [ 8.02399218e-02],\n",
       "        [-3.35968226e-01],\n",
       "        [ 2.01678053e-02],\n",
       "        [-3.22577730e-02],\n",
       "        [-6.49428740e-02],\n",
       "        [-7.83250034e-02],\n",
       "        [-1.43000513e-01],\n",
       "        [-1.09055363e-01],\n",
       "        [ 1.92239750e-02],\n",
       "        [ 1.55289033e-02],\n",
       "        [-4.88316528e-02],\n",
       "        [ 8.97474810e-02],\n",
       "        [ 5.30025810e-02],\n",
       "        [-1.25346065e-01],\n",
       "        [ 1.37224913e-01],\n",
       "        [ 7.42376074e-02],\n",
       "        [-1.81815878e-01],\n",
       "        [ 1.26492023e-01],\n",
       "        [-1.64144203e-01],\n",
       "        [-1.77911460e-01],\n",
       "        [-1.67494446e-01],\n",
       "        [ 5.05242273e-02],\n",
       "        [-1.09451912e-01],\n",
       "        [-6.83008552e-01],\n",
       "        [ 1.17667928e-01],\n",
       "        [-1.19067781e-01],\n",
       "        [-1.99647084e-01],\n",
       "        [ 1.55695230e-01],\n",
       "        [ 1.03659831e-01],\n",
       "        [-1.46292612e-01],\n",
       "        [ 6.34143800e-02],\n",
       "        [ 6.86194524e-02],\n",
       "        [-7.28695467e-02],\n",
       "        [-6.47162795e-02],\n",
       "        [-4.41943556e-02],\n",
       "        [ 2.33813584e-01],\n",
       "        [-2.25167111e-01],\n",
       "        [-3.23937505e-01],\n",
       "        [-1.49571031e-01],\n",
       "        [ 1.75358579e-01],\n",
       "        [-1.54071093e-01],\n",
       "        [ 7.73524567e-02],\n",
       "        [ 1.43910766e-01],\n",
       "        [-1.72728956e-01],\n",
       "        [ 7.40116090e-02],\n",
       "        [ 9.81342420e-02],\n",
       "        [-3.10347944e-01],\n",
       "        [ 7.51034170e-03],\n",
       "        [ 3.51111889e-02],\n",
       "        [-6.21226616e-02],\n",
       "        [-6.54886141e-02],\n",
       "        [-1.81596838e-02],\n",
       "        [-1.61521539e-01],\n",
       "        [-3.23366188e-03],\n",
       "        [ 7.44750649e-02],\n",
       "        [-7.36782476e-02],\n",
       "        [ 1.78106397e-01],\n",
       "        [ 1.01978190e-01],\n",
       "        [ 1.81410462e-01],\n",
       "        [-8.83010849e-02],\n",
       "        [ 2.22485676e-01],\n",
       "        [-1.13287501e-01],\n",
       "        [-2.13310555e-01],\n",
       "        [ 7.94407353e-02],\n",
       "        [ 1.59943640e-01],\n",
       "        [-2.31298730e-01],\n",
       "        [-1.83004841e-01],\n",
       "        [-1.89015344e-01],\n",
       "        [ 6.09634770e-03],\n",
       "        [-1.49434760e-01],\n",
       "        [-1.80502146e-01],\n",
       "        [-1.78069323e-01],\n",
       "        [-1.92808527e-02],\n",
       "        [-2.29342237e-01],\n",
       "        [-4.58632529e-01],\n",
       "        [ 1.66317493e-01],\n",
       "        [-1.19352318e-01],\n",
       "        [-1.69565260e-01],\n",
       "        [-3.10716890e-02],\n",
       "        [-1.71259478e-01],\n",
       "        [ 4.11343575e-02],\n",
       "        [-1.23041339e-01],\n",
       "        [ 1.07867025e-01],\n",
       "        [ 1.09954029e-02],\n",
       "        [-6.24117032e-02],\n",
       "        [ 1.48748290e-02],\n",
       "        [ 1.70324564e-01],\n",
       "        [-1.63679589e-02],\n",
       "        [ 1.01795636e-01],\n",
       "        [-1.48188978e-01],\n",
       "        [ 1.56308860e-02],\n",
       "        [ 1.91580504e-01],\n",
       "        [-1.07076749e-01],\n",
       "        [ 1.70548946e-01],\n",
       "        [ 1.42623335e-01],\n",
       "        [-2.47549027e-01],\n",
       "        [-3.11658774e-02],\n",
       "        [-1.72024891e-01],\n",
       "        [ 1.37646750e-01],\n",
       "        [-1.26573935e-01],\n",
       "        [ 6.46767393e-02],\n",
       "        [-1.79914206e-01],\n",
       "        [-1.07765287e-01],\n",
       "        [-2.18841776e-01],\n",
       "        [ 2.21422821e-01]], dtype=float32),\n",
       " array([-0.56235474], dtype=float32)]"
      ]
     },
     "execution_count": 4,
     "metadata": {},
     "output_type": "execute_result"
    }
   ],
   "source": [
    "model.get_weights()"
   ]
  },
  {
   "cell_type": "code",
   "execution_count": 5,
   "metadata": {},
   "outputs": [],
   "source": [
    "# Step 2: Helper Functions\n",
    "# Function to decode reviews\n",
    "def decode_review(encoded_review):\n",
    "    return ' '.join([reverse_word_index.get(i - 3, '?') for i in encoded_review])\n",
    "\n",
    "# Function to preprocess user input\n",
    "def preprocess_text(text):\n",
    "    words = text.lower().split()\n",
    "    encoded_review = [word_index.get(word, 2) + 3 for word in words]\n",
    "    padded_review = sequence.pad_sequences([encoded_review], maxlen=500)\n",
    "    return padded_review"
   ]
  },
  {
   "cell_type": "code",
   "execution_count": 6,
   "metadata": {},
   "outputs": [],
   "source": [
    "### Prediction  function\n",
    "\n",
    "def predict_sentiment(review):\n",
    "    preprocessed_input=preprocess_text(review)\n",
    "\n",
    "    prediction=model.predict(preprocessed_input)\n",
    "\n",
    "    sentiment = 'Positive' if prediction[0][0] > 0.5 else 'Negative'\n",
    "    \n",
    "    return sentiment, prediction[0][0]\n",
    "\n"
   ]
  },
  {
   "cell_type": "code",
   "execution_count": 7,
   "metadata": {},
   "outputs": [
    {
     "name": "stdout",
     "output_type": "stream",
     "text": [
      "\u001b[1m1/1\u001b[0m \u001b[32m━━━━━━━━━━━━━━━━━━━━\u001b[0m\u001b[37m\u001b[0m \u001b[1m0s\u001b[0m 264ms/step\n",
      "Review: This movie was fantastic! The acting was great and the plot was thrilling.\n",
      "Sentiment: Positive\n",
      "Prediction Score: 0.7568285465240479\n"
     ]
    }
   ],
   "source": [
    "# Step 4: User Input and Prediction\n",
    "# Example review for prediction\n",
    "example_review = \"This movie was fantastic! The acting was great and the plot was thrilling.\"\n",
    "\n",
    "sentiment,score=predict_sentiment(example_review)\n",
    "\n",
    "print(f'Review: {example_review}')\n",
    "print(f'Sentiment: {sentiment}')\n",
    "print(f'Prediction Score: {score}')"
   ]
  },
  {
   "cell_type": "code",
   "execution_count": null,
   "metadata": {},
   "outputs": [],
   "source": []
  },
  {
   "cell_type": "code",
   "execution_count": null,
   "metadata": {},
   "outputs": [],
   "source": []
  },
  {
   "cell_type": "code",
   "execution_count": null,
   "metadata": {},
   "outputs": [],
   "source": []
  },
  {
   "cell_type": "code",
   "execution_count": null,
   "metadata": {},
   "outputs": [],
   "source": []
  }
 ],
 "metadata": {
  "kernelspec": {
   "display_name": "Python 3",
   "language": "python",
   "name": "python3"
  },
  "language_info": {
   "codemirror_mode": {
    "name": "ipython",
    "version": 3
   },
   "file_extension": ".py",
   "mimetype": "text/x-python",
   "name": "python",
   "nbconvert_exporter": "python",
   "pygments_lexer": "ipython3",
   "version": "3.12.0"
  }
 },
 "nbformat": 4,
 "nbformat_minor": 2
}
